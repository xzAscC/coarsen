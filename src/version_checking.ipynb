{
 "cells": [
  {
   "cell_type": "code",
   "execution_count": null,
   "metadata": {},
   "outputs": [],
   "source": [
    "import torch\n",
    "import torch_geometric\n",
    "import sys\n",
    "import torch_scatter\n",
    "import torch_sparse\n",
    "import torch_cluster\n",
    "import torch_spline_conv\n",
    "import tqdm\n",
    "import matplotlib\n",
    "print(f'python version: {sys.version}')\n",
    "print(f'torch version: {torch.__version__}')\n",
    "print(f'torch_geometric version: {torch_geometric.__version__}')\n",
    "print(f'torch_scatter version: {torch_scatter.__version__}')\n",
    "print(f'torch_sparse version: {torch_sparse.__version__}')\n",
    "print(f'torch_cluster version: {torch_cluster.__version__}')\n",
    "print(f'torch_spline_conv version: {torch_spline_conv.__version__}')\n",
    "print(f'tqdm version: {tqdm.__version__}')\n",
    "print(f'matplotlib version: {matplotlib.__version__}')"
   ]
  },
  {
   "cell_type": "code",
   "execution_count": null,
   "metadata": {},
   "outputs": [],
   "source": []
  }
 ],
 "metadata": {
  "language_info": {
   "name": "python"
  }
 },
 "nbformat": 4,
 "nbformat_minor": 2
}
